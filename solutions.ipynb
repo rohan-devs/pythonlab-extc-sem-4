{
 "cells": [
  {
   "cell_type": "code",
   "execution_count": 43,
   "metadata": {},
   "outputs": [
    {
     "ename": "ValueError",
     "evalue": "invalid literal for int() with base 10: ''",
     "output_type": "error",
     "traceback": [
      "\u001b[0;31m---------------------------------------------------------------------------\u001b[0m",
      "\u001b[0;31mValueError\u001b[0m                                Traceback (most recent call last)",
      "Cell \u001b[0;32mIn[43], line 14\u001b[0m\n\u001b[1;32m     10\u001b[0m     \u001b[39mprint\u001b[39m(\u001b[39m\"\u001b[39m\u001b[39mmedian of the above nos is=\u001b[39m\u001b[39m\"\u001b[39m, median)\n\u001b[1;32m     13\u001b[0m a \u001b[39m=\u001b[39m \u001b[39minput\u001b[39m(\u001b[39m\"\u001b[39m\u001b[39menter 1st no\u001b[39m\u001b[39m\"\u001b[39m)\n\u001b[0;32m---> 14\u001b[0m a \u001b[39m=\u001b[39m \u001b[39mint\u001b[39;49m(a)\n\u001b[1;32m     15\u001b[0m b \u001b[39m=\u001b[39m \u001b[39minput\u001b[39m(\u001b[39m\"\u001b[39m\u001b[39menter 2nd no\u001b[39m\u001b[39m\"\u001b[39m)\n\u001b[1;32m     16\u001b[0m b \u001b[39m=\u001b[39m \u001b[39mint\u001b[39m(b)\n",
      "\u001b[0;31mValueError\u001b[0m: invalid literal for int() with base 10: ''"
     ]
    }
   ],
   "source": [
    "# Write a Python program to find the median among three given numbers.\n",
    "def median(a, b, c):\n",
    "    median = 0\n",
    "    if (a > b and a > c):\n",
    "        median = a\n",
    "    elif (b > a and b > c):\n",
    "        median = b\n",
    "    else:\n",
    "        median = c\n",
    "    print(\"median of the above nos is=\", median)\n",
    "\n",
    "\n",
    "a = input(\"enter 1st no\")\n",
    "a = int(a)\n",
    "b = input(\"enter 2nd no\")\n",
    "b = int(b)\n",
    "c = input(\"enter 3rd no\")\n",
    "c = int(c)\n",
    "median(a, b, c)"
   ]
  },
  {
   "cell_type": "code",
   "execution_count": null,
   "metadata": {},
   "outputs": [],
   "source": []
  },
  {
   "cell_type": "code",
   "execution_count": null,
   "metadata": {},
   "outputs": [
    {
     "name": "stdout",
     "output_type": "stream",
     "text": [
      "{1: 'rohan', 2: 'thane', 3: 'bhayander'}\n"
     ]
    }
   ],
   "source": [
    "# Create a dictionary in python of three keys and values. Print the content of the dictionary.\n",
    "\n",
    "Dict = {1: 'rohan', 2: 'thane', 3: 'bhayander'}\n",
    "print(Dict)"
   ]
  },
  {
   "cell_type": "code",
   "execution_count": null,
   "metadata": {},
   "outputs": [
    {
     "name": "stdout",
     "output_type": "stream",
     "text": [
      "2\n"
     ]
    }
   ],
   "source": [
    "#  Take a String a=’organization’ and count how many times letter ‘o’ is present in the String a.\n",
    "a = \"organization\"\n",
    "c = 0\n",
    "for i in a:\n",
    "    if (i == 'o'):\n",
    "        c = c+1\n",
    "print(c)"
   ]
  },
  {
   "cell_type": "code",
   "execution_count": null,
   "metadata": {},
   "outputs": [
    {
     "name": "stdout",
     "output_type": "stream",
     "text": [
      "3.605551275463989\n"
     ]
    }
   ],
   "source": [
    "# Write a Python program to get the third side of right angled triangle from two given sides.\n",
    "import math\n",
    "\n",
    "\n",
    "def findthirdside(a, b):\n",
    "    thirdside = math.sqrt(a*a + b*b)\n",
    "    print(thirdside)\n",
    "\n",
    "\n",
    "a = int(input(\"enter 1st side\"))\n",
    "b = int(input(\"enter 2nd side\"))\n",
    "findthirdside(a, b)"
   ]
  },
  {
   "cell_type": "code",
   "execution_count": null,
   "metadata": {},
   "outputs": [
    {
     "name": "stdout",
     "output_type": "stream",
     "text": [
      "[2, 4, 6, 8, 10]\n"
     ]
    }
   ],
   "source": [
    "# Consider the given list x= [1,2,3,4,5,6,7,8,9,10] Write a python code to create a list in the python which contains only even numbers\n",
    "x = [1, 2, 3, 4, 5, 6, 7, 8, 9, 10]\n",
    "y = []\n",
    "for i in x:\n",
    "    if (i % 2 == 0):\n",
    "        y.append(i)\n",
    "print(y)"
   ]
  },
  {
   "cell_type": "code",
   "execution_count": null,
   "metadata": {},
   "outputs": [
    {
     "name": "stdout",
     "output_type": "stream",
     "text": [
      "['1', '2', '3', '4', '5']\n",
      "['5', '4', '3', '2', '1']\n"
     ]
    }
   ],
   "source": [
    "# Write a Python program that accepts five numbers as input and sorts them in descending order.\n",
    "y1 = []\n",
    "for i in range(0, 5):\n",
    "    a = input(\"enter a no.\")\n",
    "    y1.append(a)\n",
    "print(y1)\n",
    "y1.sort(reverse=True)\n",
    "print(y1)"
   ]
  },
  {
   "cell_type": "code",
   "execution_count": null,
   "metadata": {},
   "outputs": [
    {
     "name": "stdout",
     "output_type": "stream",
     "text": [
      "[0, 1, 1, 2, 3]\n"
     ]
    }
   ],
   "source": [
    "# Write a Python program to solve the Fibonacci sequence using recursion.\n",
    "def fib(n):\n",
    "    if n <= 1:\n",
    "        return n\n",
    "    else:\n",
    "        return fib(n-1)+fib(n-2)\n",
    "\n",
    "\n",
    "fiblist = []\n",
    "a = int(input(\"enter the range\"))\n",
    "for item in range(0, a):\n",
    "    b = fib(item)\n",
    "    fiblist.append(b)\n",
    "print(fiblist)"
   ]
  },
  {
   "cell_type": "code",
   "execution_count": null,
   "metadata": {},
   "outputs": [
    {
     "name": "stdout",
     "output_type": "stream",
     "text": [
      "8.0\n"
     ]
    }
   ],
   "source": [
    "# Write a function in python which prints P^q where P and q are the natural numbers.\n",
    "def exp(p, q):\n",
    "    print(math.pow(p, q))\n",
    "\n",
    "\n",
    "p = int(input(\"enter p\"))\n",
    "q = int(input(\"enter q\"))\n",
    "exp(p, q)"
   ]
  },
  {
   "cell_type": "code",
   "execution_count": null,
   "metadata": {},
   "outputs": [
    {
     "name": "stdout",
     "output_type": "stream",
     "text": [
      "organ\n",
      "gani\n",
      "zat\n"
     ]
    }
   ],
   "source": [
    "# Take  a  String  a=’organization’.  Using  concept  of string  slicing  Print “organ”,”gani” and “zat”.\n",
    "a = \"organization\"\n",
    "print(a[0:5])\n",
    "print(a[2:6])\n",
    "print(a[6:9])"
   ]
  },
  {
   "cell_type": "code",
   "execution_count": null,
   "metadata": {},
   "outputs": [
    {
     "name": "stdout",
     "output_type": "stream",
     "text": [
      "['2', '3', '2', '7', '3', '1', '3', '5']\n",
      "['1', '2', '2', '3', '3', '3', '5', '7']\n"
     ]
    }
   ],
   "source": [
    "# Write a Python program that accepts eight numbers as input and sorts them in ascending order.\n",
    "y1 = []\n",
    "for i in range(0, 8):\n",
    "    a = input(\"enter a no.\")\n",
    "    y1.append(a)\n",
    "print(y1)\n",
    "y1.sort()\n",
    "print(y1)"
   ]
  },
  {
   "cell_type": "code",
   "execution_count": null,
   "metadata": {},
   "outputs": [
    {
     "name": "stdout",
     "output_type": "stream",
     "text": [
      "9\n"
     ]
    }
   ],
   "source": [
    "# Write a Python program to find the largest digit of a given number.\n",
    "a = int(input(\"enter a no.\"))\n",
    "y = str(a)\n",
    "print(max(y))"
   ]
  },
  {
   "cell_type": "code",
   "execution_count": null,
   "metadata": {},
   "outputs": [
    {
     "name": "stdout",
     "output_type": "stream",
     "text": [
      "average of the list is= 30.0\n"
     ]
    }
   ],
   "source": [
    "# Consider the following list L=[10,20,30,40,50] Write a code in python to print average of the numbers given in the list\n",
    "L = [10, 20, 30, 40, 50]\n",
    "sum = 0\n",
    "for i in L:\n",
    "    sum = sum+i\n",
    "avg = sum/(len(L))\n",
    "print(\"average of the list is=\", avg)"
   ]
  },
  {
   "cell_type": "code",
   "execution_count": null,
   "metadata": {},
   "outputs": [
    {
     "name": "stdout",
     "output_type": "stream",
     "text": [
      "2\n"
     ]
    }
   ],
   "source": [
    "# Write a Python program to find the smallest digit of a given number.\n",
    "a = int(input(\"enter a no.\"))\n",
    "y = str(a)\n",
    "print(min(y))"
   ]
  },
  {
   "cell_type": "code",
   "execution_count": null,
   "metadata": {},
   "outputs": [],
   "source": [
    "# Write a Python program to get the factorial of a non-negative integer using recursion."
   ]
  },
  {
   "cell_type": "code",
   "execution_count": null,
   "metadata": {},
   "outputs": [
    {
     "name": "stdout",
     "output_type": "stream",
     "text": [
      "it is a palindrome\n"
     ]
    }
   ],
   "source": [
    "# Find palindrome of string\n",
    "str1 = input(\"enter a string\")\n",
    "if (str1 == str1[::-1]):\n",
    "    print(\"it is a palindrome\")\n",
    "else:\n",
    "    print(\"not a palindrome\")"
   ]
  },
  {
   "cell_type": "code",
   "execution_count": null,
   "metadata": {},
   "outputs": [
    {
     "name": "stdout",
     "output_type": "stream",
     "text": [
      "Hi i am rohan this is example text for sem 4 extc pythin\n",
      "also..... EWP SUCKSS\n",
      "\n",
      "wviyberuibviuerbviebrivberibvierbviwrbhckvbwhcbuiwbencidwoeubcfuwebciyuwbegcdheuwhcufeqwbgyfgcuhrwif8rehuvgbrueqhf89v3ehrwuvbwey3fqg79h34ew8chwu3gbqy4gbcfu93hq4vu93g74vufherufh3wgfcunewiovniwnrofiuwneiuirdgweiyfguheiocbwrybcviuAWBU;OICEBWHUVYCBERYUIBCVU;QOEWRBIUBVIYWBR\n"
     ]
    }
   ],
   "source": [
    "# Write a Python program to Open and read the content of the text file.\n",
    "myfile = open(\"./example.txt\", \"r\")  # r shows that this is only readable\n",
    "print(myfile.read())\n",
    "myfile.close()"
   ]
  },
  {
   "cell_type": "code",
   "execution_count": null,
   "metadata": {},
   "outputs": [
    {
     "name": "stdout",
     "output_type": "stream",
     "text": [
      "36\n"
     ]
    }
   ],
   "source": [
    "# Write two functions, one called add1 and one called multi1. add1 takes one number as an input and adds 10. mult1 takes one number as an input, and multiplies that input by whatever is returned by add1,and then returns the result.\n",
    "def add1(a):\n",
    "    return a+10\n",
    "\n",
    "\n",
    "def multi1(b, c):\n",
    "    return b*c\n",
    "\n",
    "\n",
    "a = int(input(\"enter a no\"))\n",
    "c = add1(a)\n",
    "b = int(input(\"enter a no\"))\n",
    "\n",
    "print(multi1(b, c))"
   ]
  },
  {
   "cell_type": "code",
   "execution_count": null,
   "metadata": {},
   "outputs": [
    {
     "name": "stdout",
     "output_type": "stream",
     "text": [
      "Hi i am rohan this is example text for s\n",
      "8\n"
     ]
    }
   ],
   "source": [
    "#Write a python program to read first 40 characters and count total number of characters of a text file.\n",
    "myfile=open(\"./example.txt\",\"r\")\n",
    "print(myfile.read(40))\n",
    "data=myfile.read()\n",
    "word=data.split()\n",
    "print(len(word))"
   ]
  },
  {
   "cell_type": "code",
   "execution_count": null,
   "metadata": {},
   "outputs": [
    {
     "name": "stdout",
     "output_type": "stream",
     "text": [
      "34\n"
     ]
    }
   ],
   "source": [
    "#Write a Python program to calculate the length of a string.\n",
    "str1=input(\"enter a string\")\n",
    "c=0\n",
    "for i in str1:\n",
    "    if(i!='  '):\n",
    "        c=c+1\n",
    "    else:\n",
    "        break\n",
    "print(c)\n"
   ]
  },
  {
   "cell_type": "code",
   "execution_count": null,
   "metadata": {},
   "outputs": [
    {
     "name": "stdout",
     "output_type": "stream",
     "text": [
      "t 2\n",
      "h 2\n",
      "e 3\n",
      "u 2\n",
      "r 2\n",
      "o 4\n"
     ]
    }
   ],
   "source": [
    "#Write a Python program to count repeated characters in a string Sample string: 'thequickbrownfoxjumpsoverthelazydog'\n",
    "#Expected output :\n",
    "#o 4 \n",
    "#e 3 \n",
    "#u 2 \n",
    "#h 2 \n",
    "#r 2 \n",
    "#t 2\n",
    "s=\"thequickbrownfoxjumpsoverthelazydog\"\n",
    "\n",
    "for i in range(0,len(s)):\n",
    "    count = 1\n",
    "    for j in range(i+1,len(sorted(s))):\n",
    "        if(s[i]==s[j] and s[i]!=' '):\n",
    "            count=count+1\n",
    "    if(count > 1):\n",
    "        \n",
    "        print(s[i],count)\n",
    "        s=s.replace(s[i],' ')\n",
    "        \n",
    "\n",
    "\n",
    "\n",
    "    \n",
    "\n",
    "\n"
   ]
  },
  {
   "cell_type": "code",
   "execution_count": null,
   "metadata": {},
   "outputs": [
    {
     "name": "stdout",
     "output_type": "stream",
     "text": [
      "dbwd\n"
     ]
    }
   ],
   "source": [
    "#Write a Python program to remove the characters which have odd index values of a given string.\n",
    "s=input(\"enter a string\")\n",
    "ns=\"\"\n",
    "for i in range(len(s)):\n",
    "    if(i%2==0):\n",
    "        ns=ns+s[i]\n",
    "print(ns)\n",
    "\n"
   ]
  },
  {
   "cell_type": "code",
   "execution_count": null,
   "metadata": {},
   "outputs": [
    {
     "name": "stdout",
     "output_type": "stream",
     "text": [
      "(10, 20, 100)\n",
      "(40, 50, 100)\n",
      "(70, 80, 100)\n"
     ]
    }
   ],
   "source": [
    "#Write a Python program to replace last value of tuples in a list \n",
    "#Sample list: [(10, 20, 40), (40, 50, 60), (70, 80, 90)] \n",
    "#Expected Output: [(10, 20, 100), (40, 50, 100), (70, 80, 100)]\n",
    "list2=[(10, 20, 40), (40, 50, 60), (70, 80, 90)]\n",
    "for i in list2:\n",
    "    print(i[:-1]+(100,))\n",
    "\n"
   ]
  },
  {
   "cell_type": "code",
   "execution_count": null,
   "metadata": {},
   "outputs": [
    {
     "name": "stdout",
     "output_type": "stream",
     "text": [
      "6\n"
     ]
    }
   ],
   "source": [
    "#Given an integer 457853, count the number of digits using Python\n",
    "a=457853\n",
    "a=str(a)\n",
    "print(len(a))"
   ]
  },
  {
   "cell_type": "code",
   "execution_count": null,
   "metadata": {},
   "outputs": [
    {
     "name": "stdout",
     "output_type": "stream",
     "text": [
      "6\n"
     ]
    }
   ],
   "source": [
    "# Write a function called Multiply_two that takes two integers as input and returns multiplication of two numbers.\n",
    "def Multiply_two(a,b):\n",
    "    return a*b\n",
    "a=int(input(\"enter a\"))\n",
    "b=int(input(\"enter b\"))\n",
    "print(Multiply_two(a,b))\n",
    "\n"
   ]
  },
  {
   "cell_type": "code",
   "execution_count": null,
   "metadata": {},
   "outputs": [
    {
     "name": "stdout",
     "output_type": "stream",
     "text": [
      "[(4, 5), (4, 6), (1, 4), (1, 5), (1, 6), (2, 4), (2, 5), (2, 6)]\n"
     ]
    }
   ],
   "source": [
    "#write a program which takes two lists as input L1= [4,1,2] and L2=[4,5,6]and create a new list which combines the elements of two lists if they are not equal as((4,5),(4,6),(1,4),(1,5),(1,6),(2,4),(2,5),(2,6))\n",
    "def mergelist(l1,l2):\n",
    "    flist=[]\n",
    "    for i in l1:\n",
    "        for j in l2:\n",
    "            if(i!=j):\n",
    "                flist.append((i,j))\n",
    "    print(flist)\n",
    "l1=[4,1,2]\n",
    "l2=[4,5,6]\n",
    "mergelist(l1,l2)\n",
    "            \n"
   ]
  },
  {
   "cell_type": "code",
   "execution_count": null,
   "metadata": {},
   "outputs": [
    {
     "name": "stdout",
     "output_type": "stream",
     "text": [
      "this is overwritten\n"
     ]
    }
   ],
   "source": [
    "#Write a python program to overwrite the content of a text  file.\n",
    "myfile=open(\"./example.txt\",\"w\")\n",
    "myfile.write(\"this is overwritten\")\n",
    "myfile.close()\n",
    "myfile=open(\"./example.txt\",\"r\")\n",
    "print(myfile.read())\n",
    "myfile.close()\n"
   ]
  },
  {
   "cell_type": "code",
   "execution_count": null,
   "metadata": {},
   "outputs": [],
   "source": [
    "#The database is “Faith Healing hospital”. Create this database in the db \n",
    "#browser. Make a table named Doctors. Add the following fields Name, \n",
    "#Registration Number (Text and Integer), Specialization, Hours available \n",
    "#fields in the table. \n",
    "#Insert atleast two values in the table. \n",
    "#Sql commands for update ,delete ,and display "
   ]
  },
  {
   "cell_type": "code",
   "execution_count": null,
   "metadata": {},
   "outputs": [],
   "source": [
    "#The database is “DJSCE”. Create this database in the db browser. Make a \n",
    "#able named Teachers. Add the following fields Name, Qualification (Text \n",
    "#and Integer), Department, Subjects taught.\n",
    "#Insert atleast two values in the table. \n",
    "#Sql commands for update ,delete ,and display "
   ]
  },
  {
   "cell_type": "code",
   "execution_count": null,
   "metadata": {},
   "outputs": [
    {
     "name": "stdout",
     "output_type": "stream",
     "text": [
      "1.0\n",
      "4.0\n",
      "9.0\n",
      "16.0\n",
      "25.0\n",
      "36.0\n",
      "49.0\n",
      "64.0\n",
      "81.0\n",
      "100.0\n",
      "\n"
     ]
    }
   ],
   "source": [
    "#Write a python program to write squares from 1 to 10 into a text  file.\n",
    "import math\n",
    "myfile=open(\"./sqof1to10.txt\",\"w\")\n",
    "for i in range(1,11):\n",
    "    p=math.pow(i,2)\n",
    "    p=str(p)\n",
    "    p=p+\"\\n\"\n",
    "    myfile.write(p)\n",
    "myfile.close()\n",
    "myfile=open(\"./sqof1to10.txt\",\"r\")\n",
    "print(myfile.read())\n",
    "\n"
   ]
  },
  {
   "cell_type": "code",
   "execution_count": null,
   "metadata": {},
   "outputs": [
    {
     "name": "stdout",
     "output_type": "stream",
     "text": [
      "['chiku', 'cranberry']\n"
     ]
    }
   ],
   "source": [
    "#Create a list consisting of 6 fruits. Using list comprehension, generate a \n",
    "#new list which consists of the fruits that starts with letter 'c'\n",
    "l=[\"banana\",\"mango\",\"orange\",\"chiku\",\"cranberry\",\"i know cranberry is not a fruit\"]\n",
    "newlist=[]\n",
    "for i in l:\n",
    "    if i.startswith('c'):\n",
    "        newlist.append(i)\n",
    "print(newlist)\n",
    "\n"
   ]
  },
  {
   "cell_type": "code",
   "execution_count": null,
   "metadata": {},
   "outputs": [
    {
     "name": "stdout",
     "output_type": "stream",
     "text": [
      "{0: 0, 1: 1, 2: 4, 3: 9, 4: 16, 5: 25, 6: 36, 7: 49, 8: 64, 9: 81, 10: 100}\n"
     ]
    }
   ],
   "source": [
    "#Create a dictionary where key is first 10 natural numbers and value is \n",
    "#square of those numbers using dictionary comprehensions\n",
    "\n",
    "d={int(n):int(math.pow(n,2)) for n in range (0,11)}\n",
    "print(d)\n",
    "\n"
   ]
  },
  {
   "cell_type": "code",
   "execution_count": null,
   "metadata": {},
   "outputs": [],
   "source": [
    "#Find Fibonacci series without recursion"
   ]
  },
  {
   "cell_type": "code",
   "execution_count": null,
   "metadata": {},
   "outputs": [
    {
     "name": "stdout",
     "output_type": "stream",
     "text": [
      "321\n"
     ]
    }
   ],
   "source": [
    "#Write a Program that reverses the digits of the number\n",
    "a=int(input(\"enter a no\"))\n",
    "a=str(a)\n",
    "print(a[::-1])\n"
   ]
  },
  {
   "cell_type": "code",
   "execution_count": null,
   "metadata": {},
   "outputs": [
    {
     "name": "stdout",
     "output_type": "stream",
     "text": [
      "HELLO EVERYONE HOPE YOU FIND IT HELPFULL\n"
     ]
    }
   ],
   "source": [
    "#Write a program that opens a text file and reads through the file, and print the contents of the file in UPPER case. prob 34\n",
    "myfile=open(\"./prob34.txt\",\"r\")\n",
    "s=myfile.read()\n",
    "s=s.upper()\n",
    "print(s)\n",
    "myfile.close()"
   ]
  },
  {
   "cell_type": "code",
   "execution_count": null,
   "metadata": {},
   "outputs": [
    {
     "name": "stdout",
     "output_type": "stream",
     "text": [
      "['hello everyone hope you find it helpfull\\n']\n"
     ]
    }
   ],
   "source": [
    "#Write a program that prompts for a file name, then opens that file and \n",
    "#reads through the file, and print the FIRST TEN lines of the file in \n",
    "#LOWER case.\n",
    "myfile=open(\"./prob34.txt\",\"r\")\n",
    "print(myfile.readlines(10))\n",
    "myfile.close()\n"
   ]
  },
  {
   "cell_type": "code",
   "execution_count": null,
   "metadata": {},
   "outputs": [
    {
     "name": "stdout",
     "output_type": "stream",
     "text": [
      "[('item3', '24.5'), ('item2', '15.10'), ('item1', '12.20')]\n"
     ]
    }
   ],
   "source": [
    "#Write a Python program to sort a tuple by its float element.  Sample data: \n",
    "#[('item1', '12.20'), ('item2', '15.10'), ('item3', '24.5')]\n",
    "#Expected Output: [('item3', '24.5'), ('item2', '15.10'), ('item1', '12.20')]\n",
    "price = [('item1', '12.20'), ('item2', '15.10'), ('item3', '24.5')]\n",
    "\n",
    "print( sorted(price, key=lambda x: float(x[1]), reverse=True))\n"
   ]
  },
  {
   "cell_type": "code",
   "execution_count": null,
   "metadata": {},
   "outputs": [],
   "source": [
    "#Create a database in db browser Table name: Student Attributes: SAPID, \n",
    "#Name, sex, age, email id .Insert 5 values in the table and read the content \n",
    "#of the table through python."
   ]
  },
  {
   "cell_type": "code",
   "execution_count": 1,
   "metadata": {},
   "outputs": [
    {
     "name": "stdout",
     "output_type": "stream",
     "text": [
      "   marks\n",
      "0    420\n",
      "1    380\n",
      "2    390\n"
     ]
    }
   ],
   "source": [
    "#Write a python code to create a dataframe from list.\n",
    "import pandas as pd\n",
    "data = {\n",
    "  \"marks\": [420, 380, 390],\n",
    "  \n",
    "}\n",
    "\n",
    "\n",
    "df = pd.DataFrame(data)\n",
    "\n",
    "print(df) "
   ]
  },
  {
   "cell_type": "code",
   "execution_count": 6,
   "metadata": {},
   "outputs": [
    {
     "name": "stdout",
     "output_type": "stream",
     "text": [
      "1:1\n",
      "2:8\n",
      "3:27\n",
      "4:64\n",
      "5:125\n",
      "6:216\n",
      "7:343\n",
      "8:512\n",
      "9:729\n",
      "10:1000\n",
      "11:1331\n",
      "12:1728\n",
      "\n"
     ]
    }
   ],
   "source": [
    "#Opening the file using the file object “filename” in the write mode and \n",
    "#appending the CUBE of the numbers from 1 to 12. And then reading the \n",
    "#written file content by opening it again in the read mode to see the written \n",
    "#content in the file.  prob39\n",
    "import math\n",
    "myfile=open(\"./prob39.txt\",\"a\")\n",
    "for i in range(1,13):\n",
    "    p=int(math.pow(i,3))\n",
    "    p=str(i)+\":\"+str(p)+\"\\n\"\n",
    "    myfile.write(p)\n",
    "myfile.close()\n",
    "myfile=open(\"./prob39.txt\",\"r\")\n",
    "print(myfile.read())\n",
    "myfile.close()\n"
   ]
  },
  {
   "cell_type": "code",
   "execution_count": 7,
   "metadata": {},
   "outputs": [
    {
     "name": "stdout",
     "output_type": "stream",
     "text": [
      "10 20\n",
      "20 10\n"
     ]
    }
   ],
   "source": [
    "#Swap two integers a=67, b=89 without using third variable\n",
    "a=10\n",
    "b=20\n",
    "print(a,b)\n",
    "a=a+b\n",
    "b=a-b\n",
    "a=a-b\n",
    "print(a,b)\n"
   ]
  },
  {
   "cell_type": "code",
   "execution_count": 10,
   "metadata": {},
   "outputs": [
    {
     "name": "stdout",
     "output_type": "stream",
     "text": [
      "(10, 20, 'apple', 'orange')\n"
     ]
    }
   ],
   "source": [
    "#Declare a tuple x= (10,20,30) change the value of the tuple to x=(10,20, ‘apple’, ’orange’).\n",
    "x= (10,20,30)\n",
    "x=x[0:2]+(\"apple\",\"orange\")\n",
    "print(x)"
   ]
  },
  {
   "cell_type": "code",
   "execution_count": 18,
   "metadata": {},
   "outputs": [
    {
     "data": {
      "image/png": "[encoded data removed]",
      "text/plain": [
       "<Figure size 640x480 with 1 Axes>"
      ]
     },
     "metadata": {},
     "output_type": "display_data"
    }
   ],
   "source": [
    "# Take suitable values and plot a pie chart in python\n",
    "import matplotlib\n",
    "import matplotlib.pyplot as plt\n",
    "import numpy as np\n",
    "cars = ['math', 'ewp', 'ac',\n",
    "        'ic', 'ppl', 'dsa']\n",
    "\n",
    "data = [14, 11, 17, 15, 24, 25]\n",
    "\n",
    "\n",
    "plt.pie(data, labels=cars)\n",
    "\n",
    "\n",
    "plt.show()"
   ]
  },
  {
   "cell_type": "code",
   "execution_count": 19,
   "metadata": {},
   "outputs": [
    {
     "name": "stdout",
     "output_type": "stream",
     "text": [
      "\n",
      "Original dictionary elements:\n",
      "{'Theodore': 19, 'Roxanne': 20, 'Mathew': 21, 'Betty': 20}\n",
      "\n",
      "Find all keys in the said dictionary that have the specified value:\n",
      "['Roxanne', 'Betty']\n"
     ]
    }
   ],
   "source": [
    "#Write a Python program to find all keys in the provided dictionary that \n",
    "#have the given value.\n",
    "#Sample Output:\n",
    "#Original dictionary elements:\n",
    "#{'Theodore': 19, 'Roxanne': 20, 'Mathew': 21, 'Betty': 20} \n",
    "#Find all keys in the said dictionary that have the value 20: \n",
    "#['Roxanne', 'Betty']\n",
    "def test(dict, val):\n",
    "  return list(key for key, value in dict.items() if value == val)\n",
    "\n",
    "students = {\n",
    "  'Theodore': 19,\n",
    "  'Roxanne': 20,\n",
    "  'Mathew': 21,\n",
    "  'Betty': 20\n",
    "}\n",
    "\n",
    "print(\"\\nOriginal dictionary elements:\")\n",
    "print(students)\n",
    "print(\"\\nFind all keys in the said dictionary that have the specified value:\")\n",
    "print(test(students, 20))"
   ]
  },
  {
   "cell_type": "code",
   "execution_count": 22,
   "metadata": {},
   "outputs": [
    {
     "name": "stdout",
     "output_type": "stream",
     "text": [
      "[1, 2, 'apple', [12, 'pineapple']]\n"
     ]
    }
   ],
   "source": [
    "#Declare a list L= [1, 2, ‘apple’, [12,’Mango’]], Write a python code to \n",
    "#change Mango to pineapple\n",
    "l=[1,2,\"apple\",[12,\"Mango\"]]\n",
    "l[3][1]=\"pineapple\"\n",
    "print(l)"
   ]
  },
  {
   "cell_type": "code",
   "execution_count": 30,
   "metadata": {},
   "outputs": [
    {
     "name": "stdout",
     "output_type": "stream",
     "text": [
      "apple is present in the list\n",
      "[1, 2, 'banana', 3, 4, 'apple', 'orange']\n",
      "[1, 'added element', 2, 'banana', 3, 4, 'apple', 'orange']\n",
      "[1, 'added element', 2, 'banana', 4, 'apple', 'orange']\n"
     ]
    }
   ],
   "source": [
    "#Check whether apple is there in the list L. \n",
    "#L=[1,2,’banana’,3,4,’apple’]\n",
    "#a.  Add an element ‘orange’ at the end\n",
    "#b.  Add element six between 1 and 2.\n",
    "#c.  Remove element 4\n",
    "l=[1,2,\"banana\",3,4,\"apple\"]\n",
    "for i in l:\n",
    "    if (i==\"apple\"):\n",
    "        print(\"apple is present in the list\")\n",
    "l.append(\"orange\")\n",
    "print(l)\n",
    "l.insert(1,\"added element\")\n",
    "print(l)\n",
    "l.pop(4)\n",
    "print(l)\n"
   ]
  },
  {
   "cell_type": "code",
   "execution_count": null,
   "metadata": {},
   "outputs": [],
   "source": [
    "#Write a python code to create a dataframe from list.\n"
   ]
  },
  {
   "cell_type": "code",
   "execution_count": null,
   "metadata": {},
   "outputs": [],
   "source": []
  }
 ],
 "metadata": {
  "kernelspec": {
   "display_name": "Python 3",
   "language": "python",
   "name": "python3"
  },
  "language_info": {
   "codemirror_mode": {
    "name": "ipython",
    "version": 3
   },
   "file_extension": ".py",
   "mimetype": "text/x-python",
   "name": "python",
   "nbconvert_exporter": "python",
   "pygments_lexer": "ipython3",
   "version": "3.11.2"
  },
  "orig_nbformat": 4
 },
 "nbformat": 4,
 "nbformat_minor": 2
}
