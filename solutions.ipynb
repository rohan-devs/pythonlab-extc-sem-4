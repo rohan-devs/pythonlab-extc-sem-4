{
 "cells": [
  {
   "cell_type": "code",
   "execution_count": 3,
   "metadata": {},
   "outputs": [
    {
     "name": "stdout",
     "output_type": "stream",
     "text": [
      "median of the above nos are= 4\n"
     ]
    }
   ],
   "source": [
    "#Write a Python program to find the median among three given numbers.\n",
    "def median(a,b,c):\n",
    "    median=0\n",
    "    if(a>b & a>c):\n",
    "        median=a\n",
    "    elif(b>a & b>c):\n",
    "        median=b\n",
    "    else:\n",
    "        median=c\n",
    "    print(\"median of the above nos is= \",median)\n",
    "a=input(\"enter 1st no\")\n",
    "a=int(a)\n",
    "b=input(\"enter 2nd no\")\n",
    "b=int(b)\n",
    "c=input(\"enter 3rd no\")\n",
    "c=int(c)\n",
    "median(a,b,c)\n"
   ]
  },
  {
   "cell_type": "code",
   "execution_count": 4,
   "metadata": {},
   "outputs": [
    {
     "name": "stdout",
     "output_type": "stream",
     "text": [
      "{1: 'rohan', 2: 'thane', 3: 'bhayander'}\n"
     ]
    }
   ],
   "source": [
    "#Create a dictionary in python of three keys and values. Print the content of the dictionary.\n",
    "\n",
    "Dict = {1: 'rohan', 2: 'thane', 3: 'bhayander'}\n",
    "print(Dict)"
   ]
  },
  {
   "cell_type": "code",
   "execution_count": 7,
   "metadata": {},
   "outputs": [
    {
     "name": "stdout",
     "output_type": "stream",
     "text": [
      "4\n"
     ]
    }
   ],
   "source": [
    "#  Take a String a=’organization’ and count how many times letter ‘o’ is present in the String a.\n",
    "a=\"organization\"\n",
    "c=0\n",
    "for i in a:\n",
    "    if(i=='o'):\n",
    "        c=c+1\n",
    "print(c)\n",
    "\n"
   ]
  },
  {
   "cell_type": "code",
   "execution_count": 9,
   "metadata": {},
   "outputs": [
    {
     "name": "stdout",
     "output_type": "stream",
     "text": [
      "3.605551275463989\n"
     ]
    }
   ],
   "source": [
    "#Write a Python program to get the third side of right angled triangle from two given sides.\n",
    "import math\n",
    "def findthirdside(a,b):\n",
    "    thirdside=math.sqrt(a*a + b*b)\n",
    "    print(thirdside)\n",
    "a=int(input(\"enter 1st side\"))\n",
    "b=int(input(\"enter 2nd side\"))\n",
    "findthirdside(a,b)\n"
   ]
  },
  {
   "cell_type": "code",
   "execution_count": 20,
   "metadata": {},
   "outputs": [
    {
     "name": "stdout",
     "output_type": "stream",
     "text": [
      "[2, 4, 6, 8, 10]\n"
     ]
    }
   ],
   "source": [
    "#Consider the given list x= [1,2,3,4,5,6,7,8,9,10] Write a python code to create a list in the python which contains only even numbers\n",
    "x= [1,2,3,4,5,6,7,8,9,10]\n",
    "y=[]\n",
    "for i in x:\n",
    "    if(i%2==0):  \n",
    "        y.append(i)\n",
    "print(y)"
   ]
  },
  {
   "cell_type": "code",
   "execution_count": 24,
   "metadata": {},
   "outputs": [
    {
     "name": "stdout",
     "output_type": "stream",
     "text": [
      "['1', '2', '3', '4', '5']\n",
      "['5', '4', '3', '2', '1']\n"
     ]
    }
   ],
   "source": [
    "#Write a Python program that accepts five numbers as input and sorts them in descending order.\n",
    "y1=[]\n",
    "for i in range(0,5):\n",
    "    a=input(\"enter a no.\")\n",
    "    y1.append(a)\n",
    "print(y1)\n",
    "y1.sort(reverse=True)\n",
    "print(y1)"
   ]
  },
  {
   "cell_type": "code",
   "execution_count": null,
   "metadata": {},
   "outputs": [],
   "source": [
    "#Write a Python program to solve the Fibonacci sequence using recursion.\n"
   ]
  },
  {
   "cell_type": "code",
   "execution_count": 27,
   "metadata": {},
   "outputs": [
    {
     "name": "stdout",
     "output_type": "stream",
     "text": [
      "8.0\n"
     ]
    }
   ],
   "source": [
    "#Write a function in python which prints P^q where P and q are the natural numbers.\n",
    "def exp(p,q):\n",
    "    print(math.pow(p,q))\n",
    "p=int(input(\"enter p\"))\n",
    "q=int(input(\"enter q\"))\n",
    "exp(p,q)\n"
   ]
  },
  {
   "cell_type": "code",
   "execution_count": 32,
   "metadata": {},
   "outputs": [
    {
     "name": "stdout",
     "output_type": "stream",
     "text": [
      "organ\n",
      "gani\n",
      "zat\n"
     ]
    }
   ],
   "source": [
    "#Take  a  String  a=’organization’.  Using  concept  of string  slicing  Print “organ”,”gani” and “zat”.\n",
    "a=\"organization\"\n",
    "print(a[0:5])\n",
    "print(a[2:6])\n",
    "print(a[6:9])"
   ]
  },
  {
   "cell_type": "code",
   "execution_count": 33,
   "metadata": {},
   "outputs": [
    {
     "name": "stdout",
     "output_type": "stream",
     "text": [
      "['2', '3', '2', '7', '3', '1', '3', '5']\n",
      "['1', '2', '2', '3', '3', '3', '5', '7']\n"
     ]
    }
   ],
   "source": [
    "#Write a Python program that accepts eight numbers as input and sorts them in ascending order.\n",
    "y1=[]\n",
    "for i in range(0,8):\n",
    "    a=input(\"enter a no.\")\n",
    "    y1.append(a)\n",
    "print(y1)\n",
    "y1.sort()\n",
    "print(y1)"
   ]
  },
  {
   "cell_type": "code",
   "execution_count": null,
   "metadata": {},
   "outputs": [],
   "source": [
    "#Write a Python program to find the largest digit of a given number.\n",
    "a=int(input(\"enter a no.\"))\n",
    "while(a>0):\n",
    "    "
   ]
  }
 ],
 "metadata": {
  "kernelspec": {
   "display_name": "Python 3",
   "language": "python",
   "name": "python3"
  },
  "language_info": {
   "codemirror_mode": {
    "name": "ipython",
    "version": 3
   },
   "file_extension": ".py",
   "mimetype": "text/x-python",
   "name": "python",
   "nbconvert_exporter": "python",
   "pygments_lexer": "ipython3",
   "version": "3.11.2"
  },
  "orig_nbformat": 4
 },
 "nbformat": 4,
 "nbformat_minor": 2
}
