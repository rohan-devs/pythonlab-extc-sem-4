{
 "cells": [
  {
   "cell_type": "code",
   "execution_count": 57,
   "metadata": {},
   "outputs": [
    {
     "name": "stdout",
     "output_type": "stream",
     "text": [
      "median of the above nos is=  4\n"
     ]
    }
   ],
   "source": [
    "# Write a Python program to find the median among three given numbers.\n",
    "def median(a, b, c):\n",
    "    median = 0\n",
    "    if (a > b and a > c):\n",
    "        median = a\n",
    "    elif (b > a and b > c):\n",
    "        median = b\n",
    "    else:\n",
    "        median = c\n",
    "    print(\"median of the above nos is=\", median)\n",
    "\n",
    "\n",
    "a = input(\"enter 1st no\")\n",
    "a = int(a)\n",
    "b = input(\"enter 2nd no\")\n",
    "b = int(b)\n",
    "c = input(\"enter 3rd no\")\n",
    "c = int(c)\n",
    "median(a, b, c)"
   ]
  },
  {
   "cell_type": "code",
   "execution_count": 4,
   "metadata": {},
   "outputs": [
    {
     "name": "stdout",
     "output_type": "stream",
     "text": [
      "{1: 'rohan', 2: 'thane', 3: 'bhayander'}\n"
     ]
    }
   ],
   "source": [
    "# Create a dictionary in python of three keys and values. Print the content of the dictionary.\n",
    "\n",
    "Dict = {1: 'rohan', 2: 'thane', 3: 'bhayander'}\n",
    "print(Dict)"
   ]
  },
  {
   "cell_type": "code",
   "execution_count": 28,
   "metadata": {},
   "outputs": [
    {
     "name": "stdout",
     "output_type": "stream",
     "text": [
      "2\n"
     ]
    }
   ],
   "source": [
    "#  Take a String a=’organization’ and count how many times letter ‘o’ is present in the String a.\n",
    "a = \"organization\"\n",
    "c = 0\n",
    "for i in a:\n",
    "    if (i == 'o'):\n",
    "        c = c+1\n",
    "print(c)"
   ]
  },
  {
   "cell_type": "code",
   "execution_count": 9,
   "metadata": {},
   "outputs": [
    {
     "name": "stdout",
     "output_type": "stream",
     "text": [
      "3.605551275463989\n"
     ]
    }
   ],
   "source": [
    "# Write a Python program to get the third side of right angled triangle from two given sides.\n",
    "import math\n",
    "\n",
    "\n",
    "def findthirdside(a, b):\n",
    "    thirdside = math.sqrt(a*a + b*b)\n",
    "    print(thirdside)\n",
    "\n",
    "\n",
    "a = int(input(\"enter 1st side\"))\n",
    "b = int(input(\"enter 2nd side\"))\n",
    "findthirdside(a, b)"
   ]
  },
  {
   "cell_type": "code",
   "execution_count": 20,
   "metadata": {},
   "outputs": [
    {
     "name": "stdout",
     "output_type": "stream",
     "text": [
      "[2, 4, 6, 8, 10]\n"
     ]
    }
   ],
   "source": [
    "# Consider the given list x= [1,2,3,4,5,6,7,8,9,10] Write a python code to create a list in the python which contains only even numbers\n",
    "x = [1, 2, 3, 4, 5, 6, 7, 8, 9, 10]\n",
    "y = []\n",
    "for i in x:\n",
    "    if (i % 2 == 0):\n",
    "        y.append(i)\n",
    "print(y)"
   ]
  },
  {
   "cell_type": "code",
   "execution_count": 24,
   "metadata": {},
   "outputs": [
    {
     "name": "stdout",
     "output_type": "stream",
     "text": [
      "['1', '2', '3', '4', '5']\n",
      "['5', '4', '3', '2', '1']\n"
     ]
    }
   ],
   "source": [
    "# Write a Python program that accepts five numbers as input and sorts them in descending order.\n",
    "y1 = []\n",
    "for i in range(0, 5):\n",
    "    a = input(\"enter a no.\")\n",
    "    y1.append(a)\n",
    "print(y1)\n",
    "y1.sort(reverse=True)\n",
    "print(y1)"
   ]
  },
  {
   "cell_type": "code",
   "execution_count": 12,
   "metadata": {},
   "outputs": [
    {
     "name": "stdout",
     "output_type": "stream",
     "text": [
      "[0, 1, 1, 2, 3]\n"
     ]
    }
   ],
   "source": [
    "# Write a Python program to solve the Fibonacci sequence using recursion.\n",
    "def fib(n):\n",
    "    if n <= 1:\n",
    "        return n\n",
    "    else:\n",
    "        return fib(n-1)+fib(n-2)\n",
    "\n",
    "\n",
    "fiblist = []\n",
    "a = int(input(\"enter the range\"))\n",
    "for item in range(0, a):\n",
    "    b = fib(item)\n",
    "    fiblist.append(b)\n",
    "print(fiblist)"
   ]
  },
  {
   "cell_type": "code",
   "execution_count": 27,
   "metadata": {},
   "outputs": [
    {
     "name": "stdout",
     "output_type": "stream",
     "text": [
      "8.0\n"
     ]
    }
   ],
   "source": [
    "# Write a function in python which prints P^q where P and q are the natural numbers.\n",
    "def exp(p, q):\n",
    "    print(math.pow(p, q))\n",
    "\n",
    "\n",
    "p = int(input(\"enter p\"))\n",
    "q = int(input(\"enter q\"))\n",
    "exp(p, q)"
   ]
  },
  {
   "cell_type": "code",
   "execution_count": 32,
   "metadata": {},
   "outputs": [
    {
     "name": "stdout",
     "output_type": "stream",
     "text": [
      "organ\n",
      "gani\n",
      "zat\n"
     ]
    }
   ],
   "source": [
    "# Take  a  String  a=’organization’.  Using  concept  of string  slicing  Print “organ”,”gani” and “zat”.\n",
    "a = \"organization\"\n",
    "print(a[0:5])\n",
    "print(a[2:6])\n",
    "print(a[6:9])"
   ]
  },
  {
   "cell_type": "code",
   "execution_count": 33,
   "metadata": {},
   "outputs": [
    {
     "name": "stdout",
     "output_type": "stream",
     "text": [
      "['2', '3', '2', '7', '3', '1', '3', '5']\n",
      "['1', '2', '2', '3', '3', '3', '5', '7']\n"
     ]
    }
   ],
   "source": [
    "# Write a Python program that accepts eight numbers as input and sorts them in ascending order.\n",
    "y1 = []\n",
    "for i in range(0, 8):\n",
    "    a = input(\"enter a no.\")\n",
    "    y1.append(a)\n",
    "print(y1)\n",
    "y1.sort()\n",
    "print(y1)"
   ]
  },
  {
   "cell_type": "code",
   "execution_count": 1,
   "metadata": {},
   "outputs": [
    {
     "name": "stdout",
     "output_type": "stream",
     "text": [
      "9\n"
     ]
    }
   ],
   "source": [
    "# Write a Python program to find the largest digit of a given number.\n",
    "a = int(input(\"enter a no.\"))\n",
    "y = str(a)\n",
    "print(max(y))"
   ]
  },
  {
   "cell_type": "code",
   "execution_count": 4,
   "metadata": {},
   "outputs": [
    {
     "name": "stdout",
     "output_type": "stream",
     "text": [
      "average of the list is= 30.0\n"
     ]
    }
   ],
   "source": [
    "# Consider the following list L=[10,20,30,40,50] Write a code in python to print average of the numbers given in the list\n",
    "L = [10, 20, 30, 40, 50]\n",
    "sum = 0\n",
    "for i in L:\n",
    "    sum = sum+i\n",
    "avg = sum/(len(L))\n",
    "print(\"average of the list is=\", avg)"
   ]
  },
  {
   "cell_type": "code",
   "execution_count": 5,
   "metadata": {},
   "outputs": [
    {
     "name": "stdout",
     "output_type": "stream",
     "text": [
      "2\n"
     ]
    }
   ],
   "source": [
    "# Write a Python program to find the smallest digit of a given number.\n",
    "a = int(input(\"enter a no.\"))\n",
    "y = str(a)\n",
    "print(min(y))"
   ]
  },
  {
   "cell_type": "code",
   "execution_count": null,
   "metadata": {},
   "outputs": [],
   "source": [
    "# Write a Python program to get the factorial of a non-negative integer using recursion."
   ]
  },
  {
   "cell_type": "code",
   "execution_count": 11,
   "metadata": {},
   "outputs": [
    {
     "name": "stdout",
     "output_type": "stream",
     "text": [
      "it is a palindrome\n"
     ]
    }
   ],
   "source": [
    "# Find palindrome of string\n",
    "str1 = input(\"enter a string\")\n",
    "if (str1 == str1[::-1]):\n",
    "    print(\"it is a palindrome\")\n",
    "else:\n",
    "    print(\"not a palindrome\")"
   ]
  },
  {
   "cell_type": "code",
   "execution_count": 22,
   "metadata": {},
   "outputs": [
    {
     "name": "stdout",
     "output_type": "stream",
     "text": [
      "Hi i am rohan this is example text for sem 4 extc pythin\n",
      "also..... EWP SUCKSS\n",
      "\n",
      "wviyberuibviuerbviebrivberibvierbviwrbhckvbwhcbuiwbencidwoeubcfuwebciyuwbegcdheuwhcufeqwbgyfgcuhrwif8rehuvgbrueqhf89v3ehrwuvbwey3fqg79h34ew8chwu3gbqy4gbcfu93hq4vu93g74vufherufh3wgfcunewiovniwnrofiuwneiuirdgweiyfguheiocbwrybcviuAWBU;OICEBWHUVYCBERYUIBCVU;QOEWRBIUBVIYWBR\n"
     ]
    }
   ],
   "source": [
    "# Write a Python program to Open and read the content of the text file.\n",
    "myfile = open(\"./example.txt\", \"r\")  # r shows that this is only readable\n",
    "print(myfile.read())\n",
    "myfile.close()"
   ]
  },
  {
   "cell_type": "code",
   "execution_count": 16,
   "metadata": {},
   "outputs": [
    {
     "name": "stdout",
     "output_type": "stream",
     "text": [
      "36\n"
     ]
    }
   ],
   "source": [
    "# Write two functions, one called add1 and one called multi1. add1 takes one number as an input and adds 10. mult1 takes one number as an input, and multiplies that input by whatever is returned by add1,and then returns the result.\n",
    "def add1(a):\n",
    "    return a+10\n",
    "\n",
    "\n",
    "def multi1(b, c):\n",
    "    return b*c\n",
    "\n",
    "\n",
    "a = int(input(\"enter a no\"))\n",
    "c = add1(a)\n",
    "b = int(input(\"enter a no\"))\n",
    "\n",
    "print(multi1(b, c))"
   ]
  },
  {
   "cell_type": "code",
   "execution_count": 27,
   "metadata": {},
   "outputs": [
    {
     "name": "stdout",
     "output_type": "stream",
     "text": [
      "Hi i am rohan this is example text for s\n",
      "8\n"
     ]
    }
   ],
   "source": [
    "#Write a python program to read first 40 characters and count total number of characters of a text file.\n",
    "myfile=open(\"./example.txt\",\"r\")\n",
    "print(myfile.read(40))\n",
    "data=myfile.read()\n",
    "word=data.split()\n",
    "print(len(word))"
   ]
  },
  {
   "cell_type": "code",
   "execution_count": 32,
   "metadata": {},
   "outputs": [
    {
     "name": "stdout",
     "output_type": "stream",
     "text": [
      "34\n"
     ]
    }
   ],
   "source": [
    "#Write a Python program to calculate the length of a string.\n",
    "str1=input(\"enter a string\")\n",
    "c=0\n",
    "for i in str1:\n",
    "    if(i!='  '):\n",
    "        c=c+1\n",
    "    else:\n",
    "        break\n",
    "print(c)\n"
   ]
  },
  {
   "cell_type": "code",
   "execution_count": 62,
   "metadata": {},
   "outputs": [
    {
     "name": "stdout",
     "output_type": "stream",
     "text": [
      "t 2\n",
      "h 2\n",
      "e 3\n",
      "u 2\n",
      "r 2\n",
      "o 4\n"
     ]
    }
   ],
   "source": [
    "#Write a Python program to count repeated characters in a string Sample string: 'thequickbrownfoxjumpsoverthelazydog'\n",
    "#Expected output :\n",
    "#o 4 \n",
    "#e 3 \n",
    "#u 2 \n",
    "#h 2 \n",
    "#r 2 \n",
    "#t 2\n",
    "s=\"thequickbrownfoxjumpsoverthelazydog\"\n",
    "\n",
    "for i in range(0,len(s)):\n",
    "    count = 1\n",
    "    for j in range(i+1,len(sorted(s))):\n",
    "        if(s[i]==s[j] and s[i]!=' '):\n",
    "            count=count+1\n",
    "    if(count > 1):\n",
    "        \n",
    "        print(s[i],count)\n",
    "        s=s.replace(s[i],' ')\n",
    "        \n",
    "\n",
    "\n",
    "\n",
    "    \n",
    "\n",
    "\n"
   ]
  },
  {
   "cell_type": "code",
   "execution_count": 75,
   "metadata": {},
   "outputs": [
    {
     "name": "stdout",
     "output_type": "stream",
     "text": [
      "dbwd\n"
     ]
    }
   ],
   "source": [
    "#Write a Python program to remove the characters which have odd index values of a given string.\n",
    "s=input(\"enter a string\")\n",
    "ns=\"\"\n",
    "for i in range(len(s)):\n",
    "    if(i%2==0):\n",
    "        ns=ns+s[i]\n",
    "print(ns)\n",
    "\n"
   ]
  },
  {
   "cell_type": "code",
   "execution_count": 12,
   "metadata": {},
   "outputs": [
    {
     "name": "stdout",
     "output_type": "stream",
     "text": [
      "(10, 20, 100)\n",
      "(40, 50, 100)\n",
      "(70, 80, 100)\n"
     ]
    }
   ],
   "source": [
    "#Write a Python program to replace last value of tuples in a list \n",
    "#Sample list: [(10, 20, 40), (40, 50, 60), (70, 80, 90)] \n",
    "#Expected Output: [(10, 20, 100), (40, 50, 100), (70, 80, 100)]\n",
    "list2=[(10, 20, 40), (40, 50, 60), (70, 80, 90)]\n",
    "for i in list2:\n",
    "    print(i[:-1]+(100,))\n",
    "\n"
   ]
  },
  {
   "cell_type": "code",
   "execution_count": 14,
   "metadata": {},
   "outputs": [
    {
     "name": "stdout",
     "output_type": "stream",
     "text": [
      "6\n"
     ]
    }
   ],
   "source": [
    "#Given an integer 457853, count the number of digits using Python\n",
    "a=457853\n",
    "a=str(a)\n",
    "print(len(a))"
   ]
  },
  {
   "cell_type": "code",
   "execution_count": 15,
   "metadata": {},
   "outputs": [
    {
     "name": "stdout",
     "output_type": "stream",
     "text": [
      "6\n"
     ]
    }
   ],
   "source": [
    "# Write a function called Multiply_two that takes two integers as input and returns multiplication of two numbers.\n",
    "def Multiply_two(a,b):\n",
    "    return a*b\n",
    "a=int(input(\"enter a\"))\n",
    "b=int(input(\"enter b\"))\n",
    "print(Multiply_two(a,b))\n",
    "\n"
   ]
  },
  {
   "cell_type": "code",
   "execution_count": 16,
   "metadata": {},
   "outputs": [
    {
     "name": "stdout",
     "output_type": "stream",
     "text": [
      "[(4, 5), (4, 6), (1, 4), (1, 5), (1, 6), (2, 4), (2, 5), (2, 6)]\n"
     ]
    }
   ],
   "source": [
    "#write a program which takes two lists as input L1= [4,1,2] and L2=[4,5,6]and create a new list which combines the elements of two lists if they are not equal as((4,5),(4,6),(1,4),(1,5),(1,6),(2,4),(2,5),(2,6))\n",
    "def mergelist(l1,l2):\n",
    "    flist=[]\n",
    "    for i in l1:\n",
    "        for j in l2:\n",
    "            if(i!=j):\n",
    "                flist.append((i,j))\n",
    "    print(flist)\n",
    "l1=[4,1,2]\n",
    "l2=[4,5,6]\n",
    "mergelist(l1,l2)\n",
    "            \n"
   ]
  },
  {
   "cell_type": "code",
   "execution_count": null,
   "metadata": {},
   "outputs": [],
   "source": []
  }
 ],
 "metadata": {
  "kernelspec": {
   "display_name": "Python 3",
   "language": "python",
   "name": "python3"
  },
  "language_info": {
   "codemirror_mode": {
    "name": "ipython",
    "version": 3
   },
   "file_extension": ".py",
   "mimetype": "text/x-python",
   "name": "python",
   "nbconvert_exporter": "python",
   "pygments_lexer": "ipython3",
   "version": "3.11.2"
  },
  "orig_nbformat": 4
 },
 "nbformat": 4,
 "nbformat_minor": 2
}
