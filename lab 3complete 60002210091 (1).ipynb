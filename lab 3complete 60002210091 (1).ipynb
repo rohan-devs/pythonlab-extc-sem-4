{
 "cells": [
  {
   "cell_type": "code",
   "execution_count": 8,
   "id": "3c5912f8",
   "metadata": {},
   "outputs": [
    {
     "name": "stdout",
     "output_type": "stream",
     "text": [
      "0\n",
      "1\n",
      "2\n",
      "3\n",
      "4\n"
     ]
    }
   ],
   "source": [
    "for i in range(5):\n",
    "    print(i)\n"
   ]
  },
  {
   "cell_type": "code",
   "execution_count": 9,
   "id": "c2e0b338",
   "metadata": {},
   "outputs": [
    {
     "name": "stdout",
     "output_type": "stream",
     "text": [
      "1\n",
      "2\n",
      "3\n",
      "4\n",
      "5\n",
      "6\n",
      "7\n"
     ]
    }
   ],
   "source": [
    "for i in range(1,8):#will not take the last term\n",
    "    print(i)"
   ]
  },
  {
   "cell_type": "code",
   "execution_count": 10,
   "id": "569f16c1",
   "metadata": {},
   "outputs": [
    {
     "name": "stdout",
     "output_type": "stream",
     "text": [
      "1\n",
      "5\n"
     ]
    }
   ],
   "source": [
    "for i in range(1,8,4):#this is(start point ,end point,skip value)\n",
    "    print(i)"
   ]
  },
  {
   "cell_type": "code",
   "execution_count": 11,
   "id": "5c979ee4",
   "metadata": {},
   "outputs": [
    {
     "name": "stdout",
     "output_type": "stream",
     "text": [
      "abc\n",
      "xyz\n",
      "def\n"
     ]
    }
   ],
   "source": [
    "l={\"abc\",\"def\",\"xyz\"}\n",
    "for i in l:\n",
    "    print(i)"
   ]
  },
  {
   "cell_type": "code",
   "execution_count": 12,
   "id": "e9ac499c",
   "metadata": {},
   "outputs": [
    {
     "name": "stdout",
     "output_type": "stream",
     "text": [
      "abc\n",
      "def\n",
      "xyz\n"
     ]
    }
   ],
   "source": [
    "l=(\"abc\",\"def\",\"xyz\")\n",
    "for i in l:\n",
    "    print(i)"
   ]
  },
  {
   "cell_type": "code",
   "execution_count": 13,
   "id": "790fd66a",
   "metadata": {},
   "outputs": [
    {
     "name": "stdout",
     "output_type": "stream",
     "text": [
      "abc\n",
      "xyz\n",
      "def\n"
     ]
    }
   ],
   "source": [
    "l={\"abc\",\"def\",\"xyz\"}\n",
    "for i in l:\n",
    "    print(i)"
   ]
  },
  {
   "cell_type": "code",
   "execution_count": 14,
   "id": "c9958e74",
   "metadata": {},
   "outputs": [
    {
     "name": "stdout",
     "output_type": "stream",
     "text": [
      "230\n",
      "ami 230\n",
      "math 40\n",
      "sns 52\n"
     ]
    }
   ],
   "source": [
    "d={}\n",
    "d[\"ami\"]=230\n",
    "d[\"math\"]=40\n",
    "d[\"sns\"]=52\n",
    "print(d[\"ami\"])\n",
    "for i in d:\n",
    "    print(i,d[i])\n"
   ]
  },
  {
   "cell_type": "code",
   "execution_count": 15,
   "id": "b2eac052",
   "metadata": {},
   "outputs": [
    {
     "name": "stdout",
     "output_type": "stream",
     "text": [
      "p\n",
      "a\n",
      "r\n",
      "t\n"
     ]
    }
   ],
   "source": [
    "#printing strings while slicing it\n",
    "s=\"Department\"\n",
    "# print(s):this will do the same\n",
    "for i in s[2:6]:\n",
    "    print(i)\n"
   ]
  },
  {
   "cell_type": "code",
   "execution_count": 16,
   "id": "0ce568c5",
   "metadata": {},
   "outputs": [
    {
     "name": "stdout",
     "output_type": "stream",
     "text": [
      "0\n",
      "1\n",
      "2\n",
      "3\n",
      "4\n",
      "5\n"
     ]
    }
   ],
   "source": [
    "#while loop\n",
    "i=0\n",
    "while i<6:\n",
    "    print (i)\n",
    "    i=i+1\n"
   ]
  },
  {
   "cell_type": "code",
   "execution_count": 17,
   "id": "5cc4268a",
   "metadata": {},
   "outputs": [
    {
     "name": "stdout",
     "output_type": "stream",
     "text": [
      "25\n"
     ]
    }
   ],
   "source": [
    "def sq1(x):\n",
    "    y=x*x\n",
    "    return y\n",
    "a= input(\"enter any value \") #by default the basic input value is always int\n",
    "a=int(a,10) #to convert to integer\n",
    "print(sq1(a))"
   ]
  },
  {
   "attachments": {},
   "cell_type": "markdown",
   "id": "20fa4380",
   "metadata": {},
   "source": [
    "# write a function to concatenate a string\n",
    "\n",
    "def con(x,y):\n",
    "s=x+y\n",
    "return s\n",
    "\n",
    "s1=input(\"enter string 1\")\n",
    "s2=input(\"enter string 2\")\n",
    "print(\"the concatenated strings are\")\n",
    "print(con(s1,s2))\n"
   ]
  },
  {
   "attachments": {},
   "cell_type": "markdown",
   "id": "78a774c4",
   "metadata": {},
   "source": [
    "# write a function to calculate x^y\n"
   ]
  },
  {
   "cell_type": "code",
   "execution_count": 19,
   "id": "91741e1d",
   "metadata": {},
   "outputs": [
    {
     "name": "stdout",
     "output_type": "stream",
     "text": [
      "2 ^ 3 = 8\n"
     ]
    }
   ],
   "source": [
    "def ex(x,y):\n",
    "    ans=x**y\n",
    "    return ans\n",
    "a=input(\"enter an no.\")\n",
    "a=int(a,10)\n",
    "b=input(\"enter an no.\")\n",
    "b=int(b,10)\n",
    "print(a,\"^\",b,\"=\",ex(a,b))"
   ]
  },
  {
   "cell_type": "code",
   "execution_count": null,
   "id": "0ebc019e",
   "metadata": {},
   "outputs": [
    {
     "name": "stdout",
     "output_type": "stream",
     "text": [
      "[10, 20, 30, 40, 50]\n",
      "[60, 70, 80, 90]\n"
     ]
    }
   ],
   "source": [
    "#if else in python\n",
    "a=[10,20,30,40,50,60,70,80,90]\n",
    "b=[]\n",
    "c=[]\n",
    "for i in a:\n",
    "    if(i<=50):\n",
    "        b.append(i)\n",
    "    else:\n",
    "        c.append(i)\n",
    "print(b)\n",
    "print(c)\n",
    "    "
   ]
  },
  {
   "cell_type": "code",
   "execution_count": null,
   "id": "495e42d6",
   "metadata": {},
   "outputs": [
    {
     "name": "stdout",
     "output_type": "stream",
     "text": [
      "0\n",
      "23\n",
      "46\n",
      "69\n",
      "[0, 2116]\n"
     ]
    }
   ],
   "source": [
    "#list comprehension\n",
    "x=range(0,70,23)\n",
    "for i in x:\n",
    "    print(i)\n",
    "a=[]\n",
    "for i in x:\n",
    "    if(i%2==0):\n",
    "        y=i*i\n",
    "        a.append(y)\n",
    "print(a) "
   ]
  },
  {
   "cell_type": "code",
   "execution_count": null,
   "id": "8bade80c",
   "metadata": {},
   "outputs": [
    {
     "name": "stdout",
     "output_type": "stream",
     "text": [
      "[0, 2116]\n"
     ]
    }
   ],
   "source": [
    "#list comprehension\n",
    "x=range(0,70,23)\n",
    "a=[i*i for i in x if i%2==0]\n",
    "print(a) "
   ]
  },
  {
   "cell_type": "code",
   "execution_count": null,
   "id": "9ba9215e",
   "metadata": {},
   "outputs": [
    {
     "name": "stdout",
     "output_type": "stream",
     "text": [
      "{0: 0, 46: 2116}\n"
     ]
    }
   ],
   "source": [
    "#dictionary comprehension\n",
    "x=range(0,70,23)\n",
    "a={i:i*i for i in x if i%2==0}\n",
    "print(a) "
   ]
  },
  {
   "cell_type": "code",
   "execution_count": null,
   "id": "ab5d283a",
   "metadata": {},
   "outputs": [
    {
     "name": "stdout",
     "output_type": "stream",
     "text": [
      "30 20\n"
     ]
    }
   ],
   "source": [
    "#Lab problems\n",
    "#1)Swap two integers a=67, b=89 without using third variable\n",
    "a=20\n",
    "b=30\n",
    "a,b=b,a\n",
    "print(a,b)\n"
   ]
  },
  {
   "cell_type": "code",
   "execution_count": null,
   "id": "5b6196f2",
   "metadata": {},
   "outputs": [
    {
     "name": "stdout",
     "output_type": "stream",
     "text": [
      "(10, 20, 'apple', 'orange')\n"
     ]
    }
   ],
   "source": [
    "#2)Declare a tuple x= (10,20,30) change the value of the tuple to x=(10,20, ‘apple’, ’orange’).\n",
    "x=(10,20,30)\n",
    "x=x[0:2]+(\"apple\",\"orange\")\n",
    "print(x)\n"
   ]
  },
  {
   "cell_type": "code",
   "execution_count": null,
   "id": "1c58ec4a",
   "metadata": {},
   "outputs": [
    {
     "name": "stdout",
     "output_type": "stream",
     "text": [
      "enter line\n",
      "hi i am rohan\n",
      "no. of vowels are= 5\n",
      "no. of consonents are= 8\n"
     ]
    }
   ],
   "source": [
    "#3)Take user input as string (preferably your name) and count number of vowels and consonants present in the string\n",
    "s=input(\"enter line\\n\")\n",
    "c=0\n",
    "c1=0\n",
    "c2=0\n",
    "for i in s:\n",
    "    if i=='a' or i=='e' or i=='i' or i=='o' or i=='a' or i=='u':\n",
    "        c=c+1\n",
    "    elif i==' ':\n",
    "        c2=c2-1\n",
    "    else:\n",
    "        c1=c1+1\n",
    "            \n",
    "print(\"no. of vowels are=\",c)   \n",
    "print(\"no. of consonents are=\",c1-c2)   \n",
    "            \n"
   ]
  },
  {
   "cell_type": "code",
   "execution_count": null,
   "id": "b17a1e84",
   "metadata": {},
   "outputs": [
    {
     "name": "stdout",
     "output_type": "stream",
     "text": [
      "enter a no 4567\n",
      "4\n"
     ]
    }
   ],
   "source": [
    "#4)\tGiven an arbitrary integer, count the number of digits.\n",
    "a=input(\"enter a no \")\n",
    "a=int(a)\n",
    "c=0\n",
    "while a>0:\n",
    "    a=a//10\n",
    "   # print(a)\n",
    "    c=c+1\n",
    "   # print(c)\n",
    "print(c)"
   ]
  },
  {
   "cell_type": "code",
   "execution_count": 7,
   "id": "bb61e36b",
   "metadata": {},
   "outputs": [
    {
     "name": "stdout",
     "output_type": "stream",
     "text": [
      "6\n"
     ]
    }
   ],
   "source": [
    "#5 Write a function called subtract three that takes an integer or any number as input, and returns that number minus two.\n",
    "def substractthree(a):\n",
    "   return a-2\n",
    "a=input(\"enter a no.\")\n",
    "a=int(a,10)\n",
    "print(substractthree(a))"
   ]
  },
  {
   "cell_type": "code",
   "execution_count": 23,
   "id": "81e11ff1",
   "metadata": {},
   "outputs": [
    {
     "name": "stdout",
     "output_type": "stream",
     "text": [
      "[(4, 5), (4, 6), (1, 4), (1, 5), (1, 6), (2, 4), (2, 5), (2, 6)]\n"
     ]
    }
   ],
   "source": [
    "#6)\twrite a program which takes two lists as input L1= [4,1,2] and L2=[4,5,6]and create a new list which combines the elements of two lists if they are not equal as[(4,5),(4,6),(1,4),(1,5),(1,6),(2,4),(2,5),(2,6)]\n",
    "l1 = [4,1,2]\n",
    "l2 =[4,5,6]\n",
    "\n",
    "\n",
    "nl=[]\n",
    "for i in l1:\n",
    "    for j in l2:\n",
    "        if i!=j:\n",
    "            nl.append((i,j))\n",
    "    \n",
    "print(nl)\n",
    "\n",
    "            \n",
    "\n",
    "\n",
    "     "
   ]
  },
  {
   "cell_type": "code",
   "execution_count": null,
   "id": "afbb1d7c",
   "metadata": {},
   "outputs": [],
   "source": []
  }
 ],
 "metadata": {
  "kernelspec": {
   "display_name": "Python 3 (ipykernel)",
   "language": "python",
   "name": "python3"
  },
  "language_info": {
   "codemirror_mode": {
    "name": "ipython",
    "version": 3
   },
   "file_extension": ".py",
   "mimetype": "text/x-python",
   "name": "python",
   "nbconvert_exporter": "python",
   "pygments_lexer": "ipython3",
   "version": "3.10.9"
  }
 },
 "nbformat": 4,
 "nbformat_minor": 5
}
