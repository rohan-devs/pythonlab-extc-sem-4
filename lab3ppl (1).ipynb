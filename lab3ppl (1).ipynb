{
  "cells": [
    {
      "cell_type": "code",
      "execution_count": null,
      "id": "cd99703f",
      "metadata": {
        "id": "cd99703f",
        "outputId": "ee9fcd14-0c28-4edd-b027-958856f44b98"
      },
      "outputs": [
        {
          "name": "stdout",
          "output_type": "stream",
          "text": [
            "<class 'str'>\n",
            "<class 'str'>\n"
          ]
        }
      ],
      "source": [
        "#1\n",
        "a=\"qiuefiwerfigw\"\n",
        "print(type(a))\n",
        "b='qiuefiwe68i6rfigw'\n",
        "print (type(b))"
      ]
    },
    {
      "cell_type": "code",
      "execution_count": null,
      "id": "dde86ce8",
      "metadata": {
        "id": "dde86ce8",
        "outputId": "de193cad-303a-44ce-8a33-3f8cf2c19946"
      },
      "outputs": [
        {
          "name": "stdout",
          "output_type": "stream",
          "text": [
            "her 3487 eath\n"
          ]
        }
      ],
      "source": [
        "#2\n",
        "a,b,c=\"her\",3487,\"eath\"\n",
        "print(a,b,c)"
      ]
    },
    {
      "cell_type": "code",
      "execution_count": null,
      "id": "973344c8",
      "metadata": {
        "colab": {
          "base_uri": "https://localhost:8080/"
        },
        "id": "973344c8",
        "outputId": "52e5d829-9753-4dc9-99b0-35159e6a24cc"
      },
      "outputs": [
        {
          "output_type": "stream",
          "name": "stdout",
          "text": [
            "ergiohwerji weirfjowpo\n"
          ]
        }
      ],
      "source": [
        "#3\n",
        "b=\"weirfjowpo\"\n",
        "print(\"ergiohwerji \"+b)"
      ]
    },
    {
      "cell_type": "code",
      "execution_count": null,
      "id": "4926c32d",
      "metadata": {
        "id": "4926c32d",
        "outputId": "3db987e1-c2ab-4afb-a225-9a1f0e0c07d3"
      },
      "outputs": [
        {
          "name": "stdout",
          "output_type": "stream",
          "text": [
            "qiuefiwerfigwweirfjowpo\n"
          ]
        }
      ],
      "source": [
        "#4\n",
        "a=\"qiuefiwerfigw\"\n",
        "b=\"weirfjowpo\"\n",
        "print(a+b)"
      ]
    },
    {
      "cell_type": "code",
      "execution_count": null,
      "id": "3d95a494",
      "metadata": {
        "id": "3d95a494",
        "outputId": "bdeb6aaa-0eb0-4a84-ec51-9becbcd31d95"
      },
      "outputs": [
        {
          "name": "stdout",
          "output_type": "stream",
          "text": [
            "2.0\n",
            "3.0\n",
            "(2-3j)\n",
            "3.605551275463989\n"
          ]
        }
      ],
      "source": [
        "#5\n",
        "a=2+3j\n",
        "print(a.real)\n",
        "print(a.imag)\n",
        "print(a.conjugate())\n",
        "print(abs(a))"
      ]
    },
    {
      "cell_type": "code",
      "execution_count": null,
      "id": "947af308",
      "metadata": {
        "id": "947af308",
        "outputId": "63c8cf20-47c1-4efb-cfe7-5149704b21ce"
      },
      "outputs": [
        {
          "name": "stdout",
          "output_type": "stream",
          "text": [
            "art,Depmen,ent\n"
          ]
        }
      ],
      "source": [
        "#6\n",
        "s=\"Department\"\n",
        "print(s[3:6]+\",\"+s[0:3]+s[6:9]+\",\"+s[7:])"
      ]
    },
    {
      "cell_type": "code",
      "execution_count": null,
      "id": "359f8195",
      "metadata": {
        "id": "359f8195",
        "outputId": "4f7a1ffa-cf45-4106-9092-ec02acfda7b9"
      },
      "outputs": [
        {
          "name": "stdout",
          "output_type": "stream",
          "text": [
            "help!\n"
          ]
        }
      ],
      "source": [
        "#7\n",
        "s=\"hello\"\n",
        "b=s.replace(\"llo\",\"lp!\")\n",
        "print(b)\n"
      ]
    },
    {
      "cell_type": "code",
      "execution_count": null,
      "id": "75afd73d",
      "metadata": {
        "id": "75afd73d",
        "outputId": "14596e24-890e-445d-df7f-93c28cbf2ab6"
      },
      "outputs": [
        {
          "name": "stdout",
          "output_type": "stream",
          "text": [
            "hello\n"
          ]
        }
      ],
      "source": [
        "#8\n",
        "s=\" hello        \"\n",
        "b=s.strip()\n",
        "print(b)"
      ]
    },
    {
      "cell_type": "code",
      "execution_count": null,
      "id": "7d6250d9",
      "metadata": {
        "id": "7d6250d9",
        "outputId": "370b7690-6e7e-4727-c871-18a5d8f1a8e1"
      },
      "outputs": [
        {
          "name": "stdout",
          "output_type": "stream",
          "text": [
            "[1234, 4567]\n"
          ]
        }
      ],
      "source": [
        "#9\n",
        "list1=[1234]\n",
        "list2=[4567]\n",
        "print(list1+list2)"
      ]
    },
    {
      "cell_type": "code",
      "execution_count": null,
      "id": "3ec3b749",
      "metadata": {
        "id": "3ec3b749",
        "outputId": "be408b4a-08d2-4b1e-e223-80a03b382037"
      },
      "outputs": [
        {
          "name": "stdout",
          "output_type": "stream",
          "text": [
            "[1, 2, 'apple', [12, 'pineapple']]\n"
          ]
        }
      ],
      "source": [
        "#10\n",
        "list=[1,2,\"apple\",[12,\"orange\"]]\n",
        "list[3][1]=\"pineapple\"\n",
        "print(list)"
      ]
    },
    {
      "cell_type": "code",
      "execution_count": null,
      "id": "f4e11a92",
      "metadata": {
        "id": "f4e11a92",
        "colab": {
          "base_uri": "https://localhost:8080/"
        },
        "outputId": "b0f0b10e-2955-4e03-8a2c-a5d42e54c94b"
      },
      "outputs": [
        {
          "output_type": "stream",
          "name": "stdout",
          "text": [
            "exists\n",
            "[1, 2, 3, 4, 'apple', 'orange']\n",
            "[1, 6, 2, 3, 4, 'apple', 'orange']\n",
            "[1, 6, 2, 3, 'apple', 'orange']\n"
          ]
        }
      ],
      "source": [
        "#11\n",
        "list=[1,2,3,4,\"apple\"]\n",
        "if list.count(\"apple\")>=1:\n",
        "  print(\"exists\")\n",
        "else:\n",
        "  print(\"does not exist\")\n",
        "#a\n",
        "list.append(\"orange\")\n",
        "print(list)\n",
        "#b\n",
        "list.insert(1,6)\n",
        "print(list)\n",
        "#c\n",
        "list.pop(4)\n",
        "print(list)\n"
      ]
    },
    {
      "cell_type": "code",
      "source": [
        "#12\n",
        "# Declare a string and convert it in the list\n",
        "# str=’ ’\n",
        "# a. convert string to list\n",
        "# b. convert the list back into string\n",
        "s=\"heyloooo everyone i am learning python\"\n",
        "print(s)\n",
        "list=s.split()\n",
        "print(type(list))\n",
        "print(list)\n",
        "s1=\"\"\n",
        "for i in list:\n",
        "  s1=s1+i+\" \"\n",
        "print(type(s1))\n",
        "print(s1)\n",
        "\n",
        "\n"
      ],
      "metadata": {
        "colab": {
          "base_uri": "https://localhost:8080/"
        },
        "id": "yvsIE1UcYuPB",
        "outputId": "b836598a-d27a-4fbd-b959-d2fde02db7bb"
      },
      "id": "yvsIE1UcYuPB",
      "execution_count": 19,
      "outputs": [
        {
          "output_type": "stream",
          "name": "stdout",
          "text": [
            "<class 'list'>\n",
            "['heyloooo', 'everyone', 'i', 'am', 'learning', 'python']\n",
            "<class 'str'>\n",
            "heyloooo everyone i am learning python \n"
          ]
        }
      ]
    },
    {
      "cell_type": "code",
      "source": [
        "#13\n",
        "# Explain the difference of the following codes in A and B\n",
        "# Code A:\n",
        "mylist=[1,2,3,4,5]\n",
        "copylist=mylist\n",
        "mylist.append(\"apple\")\n",
        "copylist.append(\"orange\")\n",
        "print(mylist)\n",
        "print(copylist)\n",
        "# code B:\n",
        "mylist=[1,2,3,4,5]\n",
        "copylist=mylist [:]\n",
        "mylist.append(\"apple\")\n",
        "copylist.append(\"orange\")\n",
        "print(mylist)\n",
        "print(copylist)\n",
        "#ans)\n",
        "#using the [:] keyword we only add orange and apple to their respective list making copylist and my list independent"
      ],
      "metadata": {
        "colab": {
          "base_uri": "https://localhost:8080/"
        },
        "id": "4-dVkMohmkew",
        "outputId": "b1fdea19-986b-41ba-fe2d-7f7f253afcfb"
      },
      "id": "4-dVkMohmkew",
      "execution_count": 22,
      "outputs": [
        {
          "output_type": "stream",
          "name": "stdout",
          "text": [
            "[1, 2, 3, 4, 5, 'apple', 'orange']\n",
            "[1, 2, 3, 4, 5, 'apple', 'orange']\n",
            "[1, 2, 3, 4, 5, 'apple']\n",
            "[1, 2, 3, 4, 5, 'orange']\n"
          ]
        }
      ]
    },
    {
      "cell_type": "code",
      "source": [
        "#14\n",
        "subjects= [\"Science\", \"Mathematics\", \"Hindi\", \"English\"]\n",
        "# a. Permanently sort the list.\n",
        "# b. Permanently sort the list in reverse order.\n",
        "# c. Temporarily sort the list.\n",
        "# d. print the list\n",
        "subjects=sorted(subjects)\n",
        "print(subjects)\n",
        "subjects=sorted(subjects,reverse=True)\n",
        "print(subjects)\n",
        "subjects.sort()\n",
        "print(subjects)"
      ],
      "metadata": {
        "colab": {
          "base_uri": "https://localhost:8080/"
        },
        "id": "BarbjNhFpRIm",
        "outputId": "b30593e8-c0db-46f7-a5e3-7041a7a033f0"
      },
      "id": "BarbjNhFpRIm",
      "execution_count": 34,
      "outputs": [
        {
          "output_type": "stream",
          "name": "stdout",
          "text": [
            "['English', 'Hindi', 'Mathematics', 'Science']\n",
            "['Science', 'Mathematics', 'Hindi', 'English']\n",
            "['English', 'Hindi', 'Mathematics', 'Science']\n"
          ]
        }
      ]
    },
    {
      "cell_type": "code",
      "source": [
        "#15\n",
        "#Declare a list consisting of string and numbers, multiply it by 2 and observe the result\n",
        "list=[\"2uefhb\",5,6,9,4,2]\n",
        "list=list*2\n",
        "print(list)"
      ],
      "metadata": {
        "colab": {
          "base_uri": "https://localhost:8080/"
        },
        "id": "v31HV9RBtxn1",
        "outputId": "0cc20dc3-d7dc-404d-819b-1b3469b77192"
      },
      "id": "v31HV9RBtxn1",
      "execution_count": 35,
      "outputs": [
        {
          "output_type": "stream",
          "name": "stdout",
          "text": [
            "['2uefhb', 5, 6, 9, 4, 2, '2uefhb', 5, 6, 9, 4, 2]\n"
          ]
        }
      ]
    }
  ],
  "metadata": {
    "kernelspec": {
      "display_name": "Python 3 (ipykernel)",
      "language": "python",
      "name": "python3"
    },
    "language_info": {
      "codemirror_mode": {
        "name": "ipython",
        "version": 3
      },
      "file_extension": ".py",
      "mimetype": "text/x-python",
      "name": "python",
      "nbconvert_exporter": "python",
      "pygments_lexer": "ipython3",
      "version": "3.9.13"
    },
    "colab": {
      "provenance": []
    }
  },
  "nbformat": 4,
  "nbformat_minor": 5
}