{
  "cells": [
    {
      "cell_type": "code",
      "source": [
        "#Create a 3*3 array of non-zero elements and replace the first row to all zeros.\n",
        "import numpy as np\n",
        "arr= np.arange(0,9)\n",
        "arr=arr.reshape(3,3)\n",
        "#print(arr)\n",
        "for i in range(0,3):\n",
        "    arr[0][i]=0\n",
        "print(arr)\n",
        "    \n",
        "    \n",
        "\n"
      ],
      "outputs": [],
      "execution_count": 1,
      "metadata": {}
    },
    {
      "cell_type": "code",
      "source": [
        "# 2) Create a 4 by 4 array from 1 to 16. Extract the last two rows.\n",
        "import numpy as np\n",
        "arr = np.arange(0, 16)\n",
        "arr = arr.reshape(4, 4)\n",
        "g = []\n",
        "print(arr)\n",
        "for i in range(2, 4):\n",
        "    for j in range(0, 4):\n",
        "\n",
        "        g.append(arr[i][j])\n",
        "arr3 = np.array(g)\n",
        "arr3 = arr3.reshape(2, 4)\n",
        "print(arr3)\n"
      ],
      "outputs": [
        {
          "output_type": "stream",
          "name": "stdout",
          "text": "[[ 0  1  2  3]\n [ 4  5  6  7]\n [ 8  9 10 11]\n [12 13 14 15]]\n[[ 8  9 10 11]\n [12 13 14 15]]\n"
        }
      ],
      "execution_count": 22,
      "metadata": {}
    },
    {
      "attachments": {},
      "cell_type": "markdown",
      "source": [
        "\n",
        "\n",
        "\n",
        "\n",
        "\n",
        "\n",
        "\n",
        "6) Create a 3*3 array and multiply the elements of first column by 10, second column by 20 and third column by 30."
      ],
      "metadata": {}
    },
    {
      "cell_type": "code",
      "source": [
        "#3) Create and multiply two 2-dimenesional array and print the result\n",
        "import numpy as np\n",
        "arr1 = np.arange(0, 16)\n",
        "arr1 = arr1.reshape(4, 4)\n",
        "arr2 = np.arange(0, 16)\n",
        "arr2 = arr2.reshape(4, 4)\n",
        "print(arr1,\"\\n\")\n",
        "print(arr2,\"\\n\")\n",
        "print(arr1*arr2)"
      ],
      "outputs": [
        {
          "output_type": "stream",
          "name": "stdout",
          "text": "[[ 0  1  2  3]\n [ 4  5  6  7]\n [ 8  9 10 11]\n [12 13 14 15]] \n\n[[ 0  1  2  3]\n [ 4  5  6  7]\n [ 8  9 10 11]\n [12 13 14 15]] \n\n[[  0   1   4   9]\n [ 16  25  36  49]\n [ 64  81 100 121]\n [144 169 196 225]]\n"
        }
      ],
      "execution_count": 19,
      "metadata": {}
    },
    {
      "cell_type": "code",
      "source": [
        "#4) Generate random 3*3 array and find sum of all the elements\n",
        "import numpy as np\n",
        "arr=np.random.randint(9,size=(3,3))\n",
        "print(arr)\n",
        "sum=0\n",
        "for i in range(0,3):\n",
        "    for j in range(0,3):\n",
        "        sum=sum+arr[i][j]\n",
        "\n",
        "#print(arr.sum())\n",
        "print(sum)\n"
      ],
      "outputs": [
        {
          "output_type": "stream",
          "name": "stdout",
          "text": "[[0 5 3]\n [7 6 8]\n [8 3 5]]\n45\n45\n"
        }
      ],
      "execution_count": 27,
      "metadata": {}
    },
    {
      "cell_type": "code",
      "source": [
        "#5) Find transpose of a matrix\n",
        "import numpy as np\n",
        "arr= np.arange(0,9)\n",
        "arr=arr.reshape(3,3)\n",
        "print(arr)\n",
        "print(arr.transpose())"
      ],
      "outputs": [
        {
          "output_type": "stream",
          "name": "stdout",
          "text": "[[0 1 2]\n [3 4 5]\n [6 7 8]]\n[[0 3 6]\n [1 4 7]\n [2 5 8]]\n"
        }
      ],
      "execution_count": 28,
      "metadata": {}
    },
    {
      "cell_type": "code",
      "source": [
        "#6) Create a 3*3 array and multiply the elements of first column by 10, second column by 20 and third column by 30.\n",
        "import numpy as np\n",
        "arr=np.random.randint(9,size=(3,3))\n",
        "print(arr)\n",
        "\n",
        "for i in range(0,3):\n",
        "    for j in range(0,3):\n",
        "        if(i==0):\n",
        "            arr[i][j]=arr[i][j]*10\n",
        "        elif(i==1):\n",
        "            arr[i][j]=arr[i][j]*20\n",
        "        else:\n",
        "            arr[i][j]=arr[i][j]*30\n",
        "\n",
        "\n",
        "print(arr)\n"
      ],
      "outputs": [
        {
          "output_type": "stream",
          "name": "stdout",
          "text": "[[8 3 7]\n [0 7 8]\n [8 5 6]]\n[[ 80  30  70]\n [  0 140 160]\n [240 150 180]]\n"
        }
      ],
      "execution_count": 31,
      "metadata": {}
    }
  ],
  "metadata": {
    "kernelspec": {
      "name": "python",
      "language": "python",
      "display_name": "Pyolite (preview)"
    },
    "language_info": {
      "codemirror_mode": {
        "name": "python",
        "version": 3
      },
      "file_extension": ".py",
      "mimetype": "text/x-python",
      "name": "python",
      "nbconvert_exporter": "python",
      "pygments_lexer": "ipython3",
      "version": "3.8"
    },
    "orig_nbformat": 4,
    "vscode": {
      "interpreter": {
        "hash": "3ad933181bd8a04b432d3370b9dc3b0662ad032c4dfaa4e4f1596c548f763858"
      }
    },
    "kernel_info": {
      "name": "python"
    },
    "nteract": {
      "version": "nteract-front-end@1.0.0"
    }
  },
  "nbformat": 4,
  "nbformat_minor": 2
}