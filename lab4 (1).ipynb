{
 "cells": [
  {
   "cell_type": "code",
   "execution_count": 1,
   "metadata": {},
   "outputs": [
    {
     "name": "stdout",
     "output_type": "stream",
     "text": [
      "['banana']\n"
     ]
    }
   ],
   "source": [
    "#1)\tCreate a list consisting of 5 fruits. Using list comprehension, generate a new list which consists of the fruits that starts with letter 'b'\n",
    "fruits=[\"apple\",\"banana\",\"kiwi\",\"mango\",\"pineapple\"]\n",
    "listoffruitsstartingwithb=[]\n",
    "for i in fruits:\n",
    "    if i.startswith('b'):\n",
    "      listoffruitsstartingwithb.append(i)\n",
    "print(listoffruitsstartingwithb)\n",
    "    \n",
    " "
   ]
  },
  {
   "cell_type": "code",
   "execution_count": 2,
   "metadata": {},
   "outputs": [
    {
     "name": "stdout",
     "output_type": "stream",
     "text": [
      "{1: 1, 2: 4, 3: 9, 4: 16, 5: 25, 6: 36, 7: 49, 8: 64, 9: 81, 10: 100}\n"
     ]
    }
   ],
   "source": [
    "#2)\tCreate a dictionary where key is first 10 natural numbers and value is square of those numbers using dictionary comprehensions\n",
    "l=range(1, 20)\n",
    "\n",
    "d={}\n",
    "d = {i: i*i for i in l if i<11}\n",
    "print(d)\n",
    "        \n",
    "    \n",
    "\n",
    "\n"
   ]
  },
  {
   "cell_type": "code",
   "execution_count": 3,
   "metadata": {},
   "outputs": [
    {
     "name": "stdout",
     "output_type": "stream",
     "text": [
      "{'a': 1, 'b': 2, 'c': 3, 5: 'wdiubc'}\n"
     ]
    }
   ],
   "source": [
    "#3)\tWrite a function to convert list to dictionary\n",
    "\n",
    "def Converttodict(lst):\n",
    "    res_dct = {lst[i]: lst[i + 1] for i in range(0, len(lst), 2)}\n",
    "    return res_dct\n",
    "         \n",
    "lst = ['a', 1, 'b', 2, 'c', 3,5,'wdiubc']\n",
    "print(Converttodict(lst))\n",
    "    \n",
    "    \n"
   ]
  },
  {
   "cell_type": "code",
   "execution_count": 4,
   "metadata": {},
   "outputs": [
    {
     "name": "stdout",
     "output_type": "stream",
     "text": [
      "120\n"
     ]
    }
   ],
   "source": [
    "#4)\tFind factorial of a number using function without recursion\n",
    "def fact(n):\n",
    "    prod=1\n",
    "    while n>0:\n",
    "      prod=prod*n\n",
    "      n=n-1\n",
    "    return prod\n",
    "n=int(input(\"enter a no.\"))\n",
    "#n=(int(n, 10))\n",
    "print(fact(n))\n",
    "   "
   ]
  },
  {
   "cell_type": "code",
   "execution_count": 5,
   "metadata": {},
   "outputs": [
    {
     "data": {
      "text/plain": [
       "120"
      ]
     },
     "execution_count": 5,
     "metadata": {},
     "output_type": "execute_result"
    }
   ],
   "source": [
    "#5)\tFind factorial of a number using function with recursion.\n",
    "def fact(n):\n",
    "    if n==1:\n",
    "      return 1\n",
    "    else:\n",
    "       return n*fact(n-1)\n",
    "n=int(input(\"enter a no.\"))\n",
    "fact(n)\n",
    "      \n",
    "\n"
   ]
  },
  {
   "cell_type": "code",
   "execution_count": 6,
   "metadata": {},
   "outputs": [
    {
     "name": "stdout",
     "output_type": "stream",
     "text": [
      "not a palindrome\n"
     ]
    }
   ],
   "source": [
    "#6) check if the string is palindrome or not\n",
    "s=input(\"enter a string\")\n",
    "if(s==(s[::-2])):#if we write -1 it will print string in reverse order the magnitude decide the no. of skips and sign(+/-) decides the order \n",
    "    print(\"it is a palindrome\")\n",
    "else:\n",
    "    print(\"not a palindrome\")\n"
   ]
  },
  {
   "cell_type": "code",
   "execution_count": 7,
   "metadata": {},
   "outputs": [
    {
     "name": "stdout",
     "output_type": "stream",
     "text": [
      "11\n",
      "66\n"
     ]
    }
   ],
   "source": [
    "#7)\tWrite two functions, one called add1 and one called multi1. add1 takes one number as an input and adds 5. mult1 takes one number as an input, and multiplies that input by whatever is returned by add1,and then returns the result.\n",
    "def add1(n):\n",
    "    #print(n+5)\n",
    "    return n+5\n",
    "\n",
    "def multi1(ad):\n",
    "    n1=int(input(\"enter a no.\"))\n",
    "    return n1*ad\n",
    "n=int(input(\"enter a no.\"))\n",
    "ad=add1(n)\n",
    "print(add1(n))\n",
    "print(multi1(ad))\n",
    "\n"
   ]
  },
  {
   "cell_type": "code",
   "execution_count": 8,
   "metadata": {},
   "outputs": [
    {
     "name": "stdout",
     "output_type": "stream",
     "text": [
      "[0, 1, 1, 2, 3, 5, 8]\n"
     ]
    }
   ],
   "source": [
    "#8)\tFind Fibonacci series without recursion\n",
    "def fib(n):\n",
    "    a,b=0,1\n",
    "    fiblist=[]\n",
    "    for item in range(n):\n",
    "        fiblist.append(a)\n",
    "        a,b=b,a+b\n",
    "    return fiblist\n",
    "n=int(input(\"enter the range of fibonacci series\"))\n",
    "print(fib(n))\n",
    "     \n",
    "\n"
   ]
  },
  {
   "cell_type": "code",
   "execution_count": 9,
   "metadata": {},
   "outputs": [
    {
     "name": "stdout",
     "output_type": "stream",
     "text": [
      "[0, 1, 1, 2, 3, 5, 8]\n"
     ]
    }
   ],
   "source": [
    "#9)\tFind Fibonacci series with recursion\n",
    "def fib(n):\n",
    "    if n<=1:\n",
    "        return n\n",
    "    else:\n",
    "        return fib(n-1)+fib(n-2)\n",
    "    \n",
    "fiblist=[]\n",
    "a=int(input(\"enter the range\"))\n",
    "for item in range(0,a):\n",
    "    b=fib(item)\n",
    "    fiblist.append(b)\n",
    "print(fiblist)"
   ]
  }
 ],
 "metadata": {
  "kernelspec": {
   "display_name": "Python 3",
   "language": "python",
   "name": "python3"
  },
  "language_info": {
   "codemirror_mode": {
    "name": "ipython",
    "version": 3
   },
   "file_extension": ".py",
   "mimetype": "text/x-python",
   "name": "python",
   "nbconvert_exporter": "python",
   "pygments_lexer": "ipython3",
   "version": "3.11.2"
  },
  "orig_nbformat": 4
 },
 "nbformat": 4,
 "nbformat_minor": 2
}
